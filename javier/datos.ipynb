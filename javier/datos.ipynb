{
 "cells": [
  {
   "cell_type": "code",
   "execution_count": 20,
   "metadata": {},
   "outputs": [],
   "source": [
    "import pandas as pd\n",
    "import numpy as np"
   ]
  },
  {
   "cell_type": "code",
   "execution_count": 61,
   "metadata": {},
   "outputs": [],
   "source": [
    "data_types_installs = { \"created\" : str, \"application_id\" : np.uint8, \"ref_type\" : 'category',\"click_hash\" : 'category', \"attributed\" : bool ,\\\n",
    "                \"implicit\": bool, \"device_countrycode\" : 'category',\"device_brand\" : 'category', \"device_model\" : 'category', \\\n",
    "                 \"session_user_agent\" : 'category', \"user_agent\": 'category',\"event_uuid\" : 'category', \"kind\" : str, \"wifi\" : bool, \\\n",
    "                \"trans_id\" : 'category', \"ip_address\" : 'category', \"device_language\" : 'category'\n",
    "             }"
   ]
  },
  {
   "cell_type": "code",
   "execution_count": 73,
   "metadata": {},
   "outputs": [],
   "source": [
    "data_types_auctions = { \"auction_type_id\" : 'category', \"country\" : 'category', \"date\" : str, \"device_id\" : 'category', \\\n",
    "                      \"platform\" : 'category', \"ref_type_id\" : 'category', \"source_id\" : 'category'}"
   ]
  },
  {
   "cell_type": "code",
   "execution_count": 55,
   "metadata": {},
   "outputs": [
    {
     "data": {
      "text/plain": [
       "created                 object\n",
       "application_id           uint8\n",
       "ref_type              category\n",
       "ref_hash                 int64\n",
       "click_hash            category\n",
       "attributed                bool\n",
       "implicit                  bool\n",
       "device_countrycode    category\n",
       "device_brand          category\n",
       "device_model          category\n",
       "session_user_agent    category\n",
       "user_agent            category\n",
       "event_uuid            category\n",
       "kind                    object\n",
       "wifi                    object\n",
       "trans_id              category\n",
       "ip_address            category\n",
       "device_language       category\n",
       "dtype: object"
      ]
     },
     "execution_count": 55,
     "metadata": {},
     "output_type": "execute_result"
    }
   ],
   "source": [
    "installs = pd.read_csv('installs.csv',dtype=data_types_installs)\n",
    "installs.dtype"
   ]
  },
  {
   "cell_type": "code",
   "execution_count": 74,
   "metadata": {},
   "outputs": [],
   "source": [
    "auctions = pd.read_csv('auctions.csv',dtype=data_types_auctions)"
   ]
  }
 ],
 "metadata": {
  "kernelspec": {
   "display_name": "Python 3",
   "language": "python",
   "name": "python3"
  },
  "language_info": {
   "codemirror_mode": {
    "name": "ipython",
    "version": 3
   },
   "file_extension": ".py",
   "mimetype": "text/x-python",
   "name": "python",
   "nbconvert_exporter": "python",
   "pygments_lexer": "ipython3",
   "version": "3.6.4"
  }
 },
 "nbformat": 4,
 "nbformat_minor": 2
}
