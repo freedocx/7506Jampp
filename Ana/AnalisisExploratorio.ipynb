{
 "cells": [
  {
   "cell_type": "code",
   "execution_count": 163,
   "metadata": {},
   "outputs": [],
   "source": [
    "import pandas as pd\n",
    "import numpy as np\n",
    "import matplotlib\n",
    "import matplotlib.pyplot as plt\n",
    "import seaborn as sns"
   ]
  },
  {
   "cell_type": "markdown",
   "metadata": {},
   "source": [
    "### Carga de datos"
   ]
  },
  {
   "cell_type": "code",
   "execution_count": 244,
   "metadata": {},
   "outputs": [],
   "source": [
    "data_types_installs = { \"created\" : str, \"application_id\" : np.uint8, \"ref_type\" : 'category',\"click_hash\" : 'category', \"attributed\" : bool ,\\\n",
    "                \"implicit\": bool, \"device_countrycode\" : 'category',\"device_brand\" : 'category', \"device_model\" : 'category', \\\n",
    "                 \"session_user_agent\" : 'category', \"user_agent\": 'category',\"event_uuid\" : 'category', \"kind\" : str, \"wifi\" : bool, \\\n",
    "                \"trans_id\" : 'category', \"ip_address\" : 'category', \"device_language\" : 'category'\n",
    "             }\n",
    "\n",
    "data_types_auctions = { \"auction_type_id\" : 'category', \"country\" : 'category', \"date\" : str, \"device_id\" : 'category', \\\n",
    "                      \"platform\" : 'category', \"ref_type_id\" : 'category', \"source_id\" : 'category'}\n",
    "\n",
    "data_types_events = {'ref_type':'category', 'event_id' : 'category', 'ref_hash': 'category', \\\n",
    "                'application_id':'category', 'attributed':bool, 'device_os':'category', 'device_os_version':'category',\\\n",
    "                'device_brand':'category','device_model':'category','device_city':'category', \\\n",
    "                'session_user_agent':'category', 'trans_id':'category', 'user_agent':'category',\\\n",
    "                'event_uuid':'category','carrier':'category','kind':'category','wifi':bool,\\\n",
    "                'connection_type':'category','ip_address':'category','device_language':'category',\\\n",
    "                'device_countrycode':'category'}\n",
    "\n",
    "data_types_clicks = {'advertiser_id':'category' , 'action_id':'category' , 'source_id':'category', 'created':str,\\\n",
    "                     'countrycode':'category','latitude':np.float16, 'longitude':np.float16, 'wifi_conection':bool,\\\n",
    "                     'carrier_id':np.float32, 'trans_id':str, 'os_minor':'category', 'agent_devise':'category', \\\n",
    "                     'os_major':'category', 'specs_brnad':'category', 'timeToClick': np.float16, 'touchX':np.float16, \\\n",
    "                     'touchY':np.float16, 'ref_type':np.int64, 'ref_hash':np.int64}"
   ]
  },
  {
   "cell_type": "code",
   "execution_count": 245,
   "metadata": {},
   "outputs": [],
   "source": [
    "path_clicks = \"Downloads/Jammp/clicks.csv\"\n",
    "clicks = pd.read_csv(path_clicks, dtype = data_types_clicks)"
   ]
  },
  {
   "cell_type": "code",
   "execution_count": 138,
   "metadata": {},
   "outputs": [],
   "source": [
    "clicks.dropna(axis=1, how='all', inplace=True)"
   ]
  },
  {
   "cell_type": "code",
   "execution_count": 281,
   "metadata": {},
   "outputs": [
    {
     "data": {
      "text/plain": [
       "(0, 1.23828125, 0, 1.0849609375)"
      ]
     },
     "execution_count": 281,
     "metadata": {},
     "output_type": "execute_result"
    },
    {
     "data": {
      "image/png": "[encoded data removed]",
      "text/plain": [
       "<Figure size 432x288 with 1 Axes>"
      ]
     },
     "metadata": {
      "needs_background": "light"
     },
     "output_type": "display_data"
    }
   ],
   "source": [
    "c = sns.load_dataset('iris')\n",
    "x = clicks['latitude'].tolist()\n",
    "y = clicks['longitude'].tolist()\n",
    "\n",
    "sns.kdeplot(clicks['latitude'], clicks['longitude'], cmap=\"Reds\", shade=True, bw=.45, shade_lowest=True)\n",
    "plt.title('Zona de clickeos en publicidad', fontdict={'color':  'darkred','size': 16})\n",
    "plt.axis((0,max(x),0,max(y)))"
   ]
  },
  {
   "cell_type": "code",
   "execution_count": null,
   "metadata": {},
   "outputs": [],
   "source": []
  },
  {
   "cell_type": "code",
   "execution_count": null,
   "metadata": {},
   "outputs": [],
   "source": []
  },
  {
   "cell_type": "code",
   "execution_count": null,
   "metadata": {},
   "outputs": [],
   "source": []
  },
  {
   "cell_type": "code",
   "execution_count": null,
   "metadata": {},
   "outputs": [],
   "source": []
  }
 ],
 "metadata": {
  "kernelspec": {
   "display_name": "Python 3",
   "language": "python",
   "name": "python3"
  },
  "language_info": {
   "codemirror_mode": {
    "name": "ipython",
    "version": 3
   },
   "file_extension": ".py",
   "mimetype": "text/x-python",
   "name": "python",
   "nbconvert_exporter": "python",
   "pygments_lexer": "ipython3",
   "version": "3.7.1"
  }
 },
 "nbformat": 4,
 "nbformat_minor": 2
}
